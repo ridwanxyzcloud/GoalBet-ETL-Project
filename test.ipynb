{
 "cells": [
  {
   "cell_type": "code",
   "execution_count": 1,
   "metadata": {},
   "outputs": [],
   "source": [
    "import requests\n",
    "import pandas as pd\n",
    "import os"
   ]
  },
  {
   "cell_type": "code",
   "execution_count": 3,
   "metadata": {},
   "outputs": [
    {
     "name": "stdout",
     "output_type": "stream",
     "text": [
      "OperationalError: (psycopg2.OperationalError) connection to server on socket \"@localhost/.s.PGSQL.5432\" failed: Invalid argument (0x00002726/10022)\n",
      "\tIs the server running locally and accepting connections on that socket?\n",
      "\n",
      "(Background on this error at: https://sqlalche.me/e/14/e3q8)\n",
      "Failed to connect to PostgreSQL.\n"
     ]
    }
   ],
   "source": [
    "import os\n",
    "from sqlalchemy import create_engine\n",
    "from sqlalchemy.exc import OperationalError\n",
    "\n",
    "def get_postgres_engine():\n",
    "    '''\n",
    "    Constructs a SQLAlchemy engine object for PostgreSQL DB from environment variables.\n",
    "\n",
    "    Returns: \n",
    "     - sqlalchemy.engine.Engine\n",
    "    '''\n",
    "    driver = 'postgresql+psycopg2'\n",
    "    user = os.getenv('pg_user')\n",
    "    password = os.getenv('pg_password')\n",
    "    host = os.getenv('pg_host', 'localhost')  # Default to localhost if pg_host is not provided\n",
    "    port = os.getenv('pg_port', '5432')       # Default PostgreSQL port is 5432\n",
    "    dbname = os.getenv('pg_dbname')\n",
    "\n",
    "    connection_string = f'{driver}://{user}:{password}@{host}:{port}/{dbname}'\n",
    "    engine = create_engine(connection_string)\n",
    "    \n",
    "    return engine\n",
    "\n",
    "def test_postgres_connection():\n",
    "    engine = get_postgres_engine()\n",
    "    \n",
    "    try:\n",
    "        # Try to connect\n",
    "        with engine.connect() as connection:\n",
    "            # Execute a test query\n",
    "            result = connection.execute('SELECT 1')\n",
    "            print(\"Connection to PostgreSQL successful.\")\n",
    "            for row in result:\n",
    "                print(\"Result:\", row)\n",
    "    except OperationalError as e:\n",
    "        print(f\"OperationalError: {e}\")\n",
    "        print(\"Failed to connect to PostgreSQL.\")\n",
    "\n",
    "if __name__ == \"__main__\":\n",
    "    test_postgres_connection()\n"
   ]
  },
  {
   "cell_type": "code",
   "execution_count": null,
   "metadata": {},
   "outputs": [],
   "source": []
  }
 ],
 "metadata": {
  "kernelspec": {
   "display_name": "base",
   "language": "python",
   "name": "python3"
  },
  "language_info": {
   "codemirror_mode": {
    "name": "ipython",
    "version": 3
   },
   "file_extension": ".py",
   "mimetype": "text/x-python",
   "name": "python",
   "nbconvert_exporter": "python",
   "pygments_lexer": "ipython3",
   "version": "3.10.11"
  }
 },
 "nbformat": 4,
 "nbformat_minor": 2
}
